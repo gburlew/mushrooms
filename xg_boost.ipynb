{
 "cells": [
  {
   "cell_type": "code",
   "execution_count": 22,
   "metadata": {},
   "outputs": [],
   "source": [
    "import xgboost as xgb\n",
    "from xgboost import XGBClassifier\n",
    "import numpy as np\n",
    "import pandas as pd\n",
    "from sklearn.model_selection import train_test_split\n",
    "from sklearn.metrics import accuracy_score"
   ]
  },
  {
   "cell_type": "code",
   "execution_count": 23,
   "metadata": {},
   "outputs": [],
   "source": [
    "mush_df = pd.read_json(\"cleaned_mushroom_df.json\")"
   ]
  },
  {
   "cell_type": "code",
   "execution_count": 24,
   "metadata": {},
   "outputs": [],
   "source": [
    "opt_feat = ['spore-print-color',\n",
    " 'cap-color',\n",
    " 'cap-surface',\n",
    " 'ring-number',\n",
    " 'veil-color',\n",
    " 'cap-shape',\n",
    " 'stalk-root',\n",
    " 'stalk-surface-above-ring',\n",
    " 'gill-color',\n",
    " 'ring-type',\n",
    " 'stalk-surface-below-ring']"
   ]
  },
  {
   "cell_type": "code",
   "execution_count": 25,
   "metadata": {},
   "outputs": [],
   "source": [
    "y = mush_df['label']\n",
    "X = pd.DataFrame(mush_df, columns=opt_feat)"
   ]
  },
  {
   "cell_type": "code",
   "execution_count": 26,
   "metadata": {},
   "outputs": [],
   "source": [
    "features = X.columns\n",
    "X = X[features].astype('category')"
   ]
  },
  {
   "cell_type": "code",
   "execution_count": 27,
   "metadata": {},
   "outputs": [
    {
     "data": {
      "text/html": [
       "<div>\n",
       "<style scoped>\n",
       "    .dataframe tbody tr th:only-of-type {\n",
       "        vertical-align: middle;\n",
       "    }\n",
       "\n",
       "    .dataframe tbody tr th {\n",
       "        vertical-align: top;\n",
       "    }\n",
       "\n",
       "    .dataframe thead th {\n",
       "        text-align: right;\n",
       "    }\n",
       "</style>\n",
       "<table border=\"1\" class=\"dataframe\">\n",
       "  <thead>\n",
       "    <tr style=\"text-align: right;\">\n",
       "      <th></th>\n",
       "      <th>spore-print-color</th>\n",
       "      <th>cap-color</th>\n",
       "      <th>cap-surface</th>\n",
       "      <th>ring-number</th>\n",
       "      <th>veil-color</th>\n",
       "      <th>cap-shape</th>\n",
       "      <th>stalk-root</th>\n",
       "      <th>stalk-surface-above-ring</th>\n",
       "      <th>gill-color</th>\n",
       "      <th>ring-type</th>\n",
       "      <th>stalk-surface-below-ring</th>\n",
       "    </tr>\n",
       "  </thead>\n",
       "  <tbody>\n",
       "    <tr>\n",
       "      <th>0</th>\n",
       "      <td>k</td>\n",
       "      <td>n</td>\n",
       "      <td>s</td>\n",
       "      <td>o</td>\n",
       "      <td>w</td>\n",
       "      <td>x</td>\n",
       "      <td>e</td>\n",
       "      <td>s</td>\n",
       "      <td>k</td>\n",
       "      <td>p</td>\n",
       "      <td>s</td>\n",
       "    </tr>\n",
       "    <tr>\n",
       "      <th>1</th>\n",
       "      <td>n</td>\n",
       "      <td>y</td>\n",
       "      <td>s</td>\n",
       "      <td>o</td>\n",
       "      <td>w</td>\n",
       "      <td>x</td>\n",
       "      <td>c</td>\n",
       "      <td>s</td>\n",
       "      <td>k</td>\n",
       "      <td>p</td>\n",
       "      <td>s</td>\n",
       "    </tr>\n",
       "    <tr>\n",
       "      <th>2</th>\n",
       "      <td>n</td>\n",
       "      <td>w</td>\n",
       "      <td>s</td>\n",
       "      <td>o</td>\n",
       "      <td>w</td>\n",
       "      <td>b</td>\n",
       "      <td>c</td>\n",
       "      <td>s</td>\n",
       "      <td>n</td>\n",
       "      <td>p</td>\n",
       "      <td>s</td>\n",
       "    </tr>\n",
       "    <tr>\n",
       "      <th>3</th>\n",
       "      <td>k</td>\n",
       "      <td>w</td>\n",
       "      <td>y</td>\n",
       "      <td>o</td>\n",
       "      <td>w</td>\n",
       "      <td>x</td>\n",
       "      <td>e</td>\n",
       "      <td>s</td>\n",
       "      <td>n</td>\n",
       "      <td>p</td>\n",
       "      <td>s</td>\n",
       "    </tr>\n",
       "    <tr>\n",
       "      <th>4</th>\n",
       "      <td>n</td>\n",
       "      <td>g</td>\n",
       "      <td>s</td>\n",
       "      <td>o</td>\n",
       "      <td>w</td>\n",
       "      <td>x</td>\n",
       "      <td>e</td>\n",
       "      <td>s</td>\n",
       "      <td>k</td>\n",
       "      <td>e</td>\n",
       "      <td>s</td>\n",
       "    </tr>\n",
       "    <tr>\n",
       "      <th>...</th>\n",
       "      <td>...</td>\n",
       "      <td>...</td>\n",
       "      <td>...</td>\n",
       "      <td>...</td>\n",
       "      <td>...</td>\n",
       "      <td>...</td>\n",
       "      <td>...</td>\n",
       "      <td>...</td>\n",
       "      <td>...</td>\n",
       "      <td>...</td>\n",
       "      <td>...</td>\n",
       "    </tr>\n",
       "    <tr>\n",
       "      <th>8119</th>\n",
       "      <td>Certain Edible</td>\n",
       "      <td>n</td>\n",
       "      <td>s</td>\n",
       "      <td>o</td>\n",
       "      <td>Certain Edible</td>\n",
       "      <td>k</td>\n",
       "      <td>?</td>\n",
       "      <td>s</td>\n",
       "      <td>Other</td>\n",
       "      <td>p</td>\n",
       "      <td>s</td>\n",
       "    </tr>\n",
       "    <tr>\n",
       "      <th>8120</th>\n",
       "      <td>Certain Edible</td>\n",
       "      <td>n</td>\n",
       "      <td>s</td>\n",
       "      <td>o</td>\n",
       "      <td>Certain Edible</td>\n",
       "      <td>x</td>\n",
       "      <td>?</td>\n",
       "      <td>s</td>\n",
       "      <td>Other</td>\n",
       "      <td>p</td>\n",
       "      <td>s</td>\n",
       "    </tr>\n",
       "    <tr>\n",
       "      <th>8121</th>\n",
       "      <td>Certain Edible</td>\n",
       "      <td>n</td>\n",
       "      <td>s</td>\n",
       "      <td>o</td>\n",
       "      <td>Certain Edible</td>\n",
       "      <td>f</td>\n",
       "      <td>?</td>\n",
       "      <td>s</td>\n",
       "      <td>n</td>\n",
       "      <td>p</td>\n",
       "      <td>s</td>\n",
       "    </tr>\n",
       "    <tr>\n",
       "      <th>8122</th>\n",
       "      <td>w</td>\n",
       "      <td>n</td>\n",
       "      <td>y</td>\n",
       "      <td>o</td>\n",
       "      <td>w</td>\n",
       "      <td>k</td>\n",
       "      <td>?</td>\n",
       "      <td>s</td>\n",
       "      <td>Certain Poisonous</td>\n",
       "      <td>e</td>\n",
       "      <td>k</td>\n",
       "    </tr>\n",
       "    <tr>\n",
       "      <th>8123</th>\n",
       "      <td>Certain Edible</td>\n",
       "      <td>n</td>\n",
       "      <td>s</td>\n",
       "      <td>o</td>\n",
       "      <td>Certain Edible</td>\n",
       "      <td>x</td>\n",
       "      <td>?</td>\n",
       "      <td>s</td>\n",
       "      <td>Other</td>\n",
       "      <td>p</td>\n",
       "      <td>s</td>\n",
       "    </tr>\n",
       "  </tbody>\n",
       "</table>\n",
       "<p>8124 rows × 11 columns</p>\n",
       "</div>"
      ],
      "text/plain": [
       "     spore-print-color cap-color cap-surface ring-number      veil-color  \\\n",
       "0                    k         n           s           o               w   \n",
       "1                    n         y           s           o               w   \n",
       "2                    n         w           s           o               w   \n",
       "3                    k         w           y           o               w   \n",
       "4                    n         g           s           o               w   \n",
       "...                ...       ...         ...         ...             ...   \n",
       "8119    Certain Edible         n           s           o  Certain Edible   \n",
       "8120    Certain Edible         n           s           o  Certain Edible   \n",
       "8121    Certain Edible         n           s           o  Certain Edible   \n",
       "8122                 w         n           y           o               w   \n",
       "8123    Certain Edible         n           s           o  Certain Edible   \n",
       "\n",
       "     cap-shape stalk-root stalk-surface-above-ring         gill-color  \\\n",
       "0            x          e                        s                  k   \n",
       "1            x          c                        s                  k   \n",
       "2            b          c                        s                  n   \n",
       "3            x          e                        s                  n   \n",
       "4            x          e                        s                  k   \n",
       "...        ...        ...                      ...                ...   \n",
       "8119         k          ?                        s              Other   \n",
       "8120         x          ?                        s              Other   \n",
       "8121         f          ?                        s                  n   \n",
       "8122         k          ?                        s  Certain Poisonous   \n",
       "8123         x          ?                        s              Other   \n",
       "\n",
       "     ring-type stalk-surface-below-ring  \n",
       "0            p                        s  \n",
       "1            p                        s  \n",
       "2            p                        s  \n",
       "3            p                        s  \n",
       "4            e                        s  \n",
       "...        ...                      ...  \n",
       "8119         p                        s  \n",
       "8120         p                        s  \n",
       "8121         p                        s  \n",
       "8122         e                        k  \n",
       "8123         p                        s  \n",
       "\n",
       "[8124 rows x 11 columns]"
      ]
     },
     "execution_count": 27,
     "metadata": {},
     "output_type": "execute_result"
    }
   ],
   "source": [
    "X"
   ]
  },
  {
   "cell_type": "code",
   "execution_count": 28,
   "metadata": {},
   "outputs": [],
   "source": [
    "X_train, X_test, y_train, y_test = train_test_split(X, y, test_size = 0.33, random_state = 7)"
   ]
  },
  {
   "cell_type": "code",
   "execution_count": 29,
   "metadata": {},
   "outputs": [
    {
     "name": "stderr",
     "output_type": "stream",
     "text": [
      "/opt/anaconda3/envs/dev/lib/python3.10/site-packages/xgboost/core.py:158: UserWarning: [19:52:52] WARNING: /Users/runner/work/xgboost/xgboost/src/context.cc:196: XGBoost is not compiled with CUDA support.\n",
      "  warnings.warn(smsg, UserWarning)\n"
     ]
    }
   ],
   "source": [
    "model = xgb.XGBClassifier(tree_method = 'hist', enable_categorical = True, device = 'cuda')\n",
    "model.fit(X_train, y_train)\n",
    "model.save_model('mushroom_xgboost.json')"
   ]
  },
  {
   "cell_type": "code",
   "execution_count": 30,
   "metadata": {},
   "outputs": [
    {
     "name": "stdout",
     "output_type": "stream",
     "text": [
      "XGBClassifier(base_score=None, booster=None, callbacks=None,\n",
      "              colsample_bylevel=None, colsample_bynode=None,\n",
      "              colsample_bytree=None, device='cuda', early_stopping_rounds=None,\n",
      "              enable_categorical=True, eval_metric=None, feature_types=None,\n",
      "              gamma=None, grow_policy=None, importance_type=None,\n",
      "              interaction_constraints=None, learning_rate=None, max_bin=None,\n",
      "              max_cat_threshold=None, max_cat_to_onehot=None,\n",
      "              max_delta_step=None, max_depth=None, max_leaves=None,\n",
      "              min_child_weight=None, missing=nan, monotone_constraints=None,\n",
      "              multi_strategy=None, n_estimators=None, n_jobs=None,\n",
      "              num_parallel_tree=None, random_state=None, ...)\n"
     ]
    }
   ],
   "source": [
    "print(model)"
   ]
  },
  {
   "cell_type": "code",
   "execution_count": 31,
   "metadata": {},
   "outputs": [],
   "source": [
    "y_pred = model.predict(X_test)\n",
    "predictions = [round(value) for value in y_pred]"
   ]
  },
  {
   "cell_type": "code",
   "execution_count": 32,
   "metadata": {},
   "outputs": [
    {
     "name": "stdout",
     "output_type": "stream",
     "text": [
      "Accuracy: 99.48%\n"
     ]
    }
   ],
   "source": [
    "accuracy = accuracy_score(y_test, predictions)\n",
    "print(\"Accuracy: %.2f%%\" % (accuracy * 100.0))"
   ]
  }
 ],
 "metadata": {
  "kernelspec": {
   "display_name": "dev",
   "language": "python",
   "name": "python3"
  },
  "language_info": {
   "codemirror_mode": {
    "name": "ipython",
    "version": 3
   },
   "file_extension": ".py",
   "mimetype": "text/x-python",
   "name": "python",
   "nbconvert_exporter": "python",
   "pygments_lexer": "ipython3",
   "version": "3.10.14"
  }
 },
 "nbformat": 4,
 "nbformat_minor": 2
}
